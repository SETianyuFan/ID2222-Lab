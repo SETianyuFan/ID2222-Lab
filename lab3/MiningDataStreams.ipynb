{
  "cells": [
    {
      "cell_type": "markdown",
      "metadata": {
        "id": "l4C3P_tvTXVV"
      },
      "source": [
        "# Homework 3: Mining Data Streams"
      ]
    },
    {
      "cell_type": "markdown",
      "metadata": {},
      "source": [
        "### Description\n",
        "You are to study and implement a streaming graph processing algorithm described in one of the above papers of your choice. To accomplish your task, you are to perform the following two steps.\n",
        "\n",
        "First, implement the reservoir sampling or the Flajolet-Martin algorithm used in the graph algorithm presented in the paper you have selected;\n",
        "Second, implement the streaming graph algorithm presented in the paper that uses the algorithm implemented in the first step. \n",
        "To ensure that your implementation is correct, you are to test your implementation with some of the publicly available graph datasets (find a link below) and present your test results in a report.\n",
        "\n",
        "Implementation can be done using any data processing framework that includes support for stream (streaming graph) processing, such as Apache Spark, Apache Flink, or no framework, e.g., in Java, Python, or another language of your choice. "
      ]
    },
    {
      "cell_type": "markdown",
      "metadata": {
        "id": "8gdFmPIYTcSO"
      },
      "source": [
        "### Description\n",
        "\n",
        "***1.*** Reservoir Sampling is an algorithm with the task to approximate the distribution of elements in a stream. Specifically of a stream where the number of elements is unknown. This is done by randomly add abitrary elements from the stream which makes the algorithm efficient. \n",
        "\n",
        "***2.*** In this program, I'll try to use Trièst-Base  to be able to approximate how many triangles there are in a graph structure. This approximation is done by feeding in edges of the graph into the algorithm where at a random time t an element is added to the sample size (representing the true distribution). Furthermore, when an element is added to the samples one element is deleted to sustain the sample size of M. "
      ]
    },
    {
      "cell_type": "markdown",
      "metadata": {
        "id": "6Bn0PHqLTQjd"
      },
      "source": [
        "## Code implementation"
      ]
    },
    {
      "cell_type": "markdown",
      "metadata": {
        "id": "o8DHemWNSqxK"
      },
      "source": [
        "### Libraries"
      ]
    },
    {
      "cell_type": "code",
      "execution_count": 1,
      "metadata": {
        "id": "F8koOhjBSqc6"
      },
      "outputs": [],
      "source": [
        "import operator\n",
        "import random\n",
        "import time"
      ]
    },
    {
      "cell_type": "markdown",
      "metadata": {
        "id": "PcJiX3cY2uxa"
      },
      "source": [
        "### TRIÈST - BASE\n"
      ]
    },
    {
      "cell_type": "code",
      "execution_count": 19,
      "metadata": {
        "id": "oJ7vbR-3yDI-"
      },
      "outputs": [],
      "source": [
        "class TriestBase:\n",
        "  def __init__(self, M):\n",
        "\n",
        "    self.M = M # postitive paramiter M (M numbers of edges)\n",
        "    self.t = 0 # time instant t\n",
        "    self.global_count = 0 # estimation of globle edges\n",
        "    self.local_count = dict() # local counters\n",
        "    self.Graph = dict() # neighbpr ralation \n",
        "    self.edges = list() # set of edge that program can save\n",
        "    self.ops = {\n",
        "    '+' : operator.add,\n",
        "    '-' : operator.sub}\n",
        "\n",
        "  def addSample(self, edge):\n",
        "    u, v = edge\n",
        "    self.t = self.t + 1\n",
        "\n",
        "    if self.sampleEdge((u,v)):\n",
        "\n",
        "      self.edges.append((u,v)) # Add edge to edge samples\n",
        "      self.addNeighbor((u, v)) # Add neighbor for both u and v\n",
        "      self.updateCounter('+', (u,v)) # Add counters\n",
        "\n",
        "  def sampleEdge(self, edge): # Decide wether to add edge to edge set\n",
        "    u, v = edge\n",
        "\n",
        "    if self.t <= self.M: # condition that edge set is not full\n",
        "      return True\n",
        "    elif self.flipBiasedCoin(self.M/self.t): # condition that set is full so flip a coin to decide\n",
        "      \n",
        "      random_index = random.randint(0, self.M - 1) # select one edge to delete\n",
        "      (ud,vd) = self.edges.pop(random_index)\n",
        "\n",
        "      self.deleteNeighbor((ud, vd)) # delete neighbor for both u and v\n",
        "      \n",
        "      self.updateCounter('-', (ud,vd)) # Update global and local triangles\n",
        "      return True\n",
        "    return False\n",
        "\n",
        "  def flipBiasedCoin(self, p): # flip a coin\n",
        "    if random.random() < p:\n",
        "      coin = True\n",
        "    else:\n",
        "      coin = False\n",
        "    return coin\n",
        "\n",
        "  # Updating the global and local counter which is \n",
        "  # used to approximate the number of global and local triangels\n",
        "  def updateCounter(self, op, edge):\n",
        "    u,v = edge\n",
        "\n",
        "    if not u in self.Graph or not v in self.Graph:\n",
        "      return\n",
        "\n",
        "    u_neighbors = self.Graph[u]\n",
        "    v_neighbors = self.Graph[v]\n",
        "\n",
        "    same_neighbors = u_neighbors & v_neighbors\n",
        "\n",
        "    same_neighbors_count = len(same_neighbors)\n",
        "    if same_neighbors_count == 0:\n",
        "      return\n",
        "\n",
        "    #Updating counter\n",
        "    if v not in self.local_count:\n",
        "      self.local_count[v] = 0\n",
        "    if u not in self.local_count:\n",
        "      self.local_count[u] = 0\n",
        "\n",
        "    # Add neighbors count to global and local[vertice in edge]\n",
        "    self.global_count = self.ops[op](self.global_count, same_neighbors_count)\n",
        "    self.local_count[u] = self.ops[op](self.local_count[u], same_neighbors_count)\n",
        "    self.local_count[v] = self.ops[op](self.local_count[v], same_neighbors_count)\n",
        "\n",
        "    # Add 1 to the neighboring vertices of u and v\n",
        "    for c in same_neighbors:\n",
        "      if c not in self.local_count:\n",
        "        self.local_count[c] = 0\n",
        "      self.local_count[c] = self.ops[op](self.local_count[c], 1)\n",
        "  \n",
        "  # Estimate Triangles\n",
        "  def estimateTriangles(self):\n",
        "    return max(1,int(self.t*(self.t-1)*(self.t-2)/(self.M*(self.M-1)*(self.M-2)))) * self.global_count\n",
        "\n",
        "  def addNeighbor(self ,edge):\n",
        "    u, v = edge\n",
        "\n",
        "    if u in self.Graph:\n",
        "        self.Graph[u].add(v)\n",
        "    else:\n",
        "        self.Graph[u] = set([v])\n",
        "    if v in self.Graph:\n",
        "        self.Graph[v].add(u)\n",
        "    else:\n",
        "        self.Graph[v] = set([u])\n",
        "\n",
        "  def deleteNeighbor(self, edge):\n",
        "    u, v = edge\n",
        "\n",
        "    if u in self.Graph:\n",
        "      self.Graph[u].remove(v)\n",
        "      if len(self.Graph[u]) == 0:\n",
        "        del self.Graph[u]\n",
        "    if v in self.Graph:\n",
        "      self.Graph[v].remove(u)\n",
        "      if len(self.Graph[v]) == 0:\n",
        "        del self.Graph[v]\n",
        "\n"
      ]
    },
    {
      "cell_type": "markdown",
      "metadata": {
        "id": "5IN7L8o0wHlw"
      },
      "source": [
        "### Run the program"
      ]
    },
    {
      "cell_type": "code",
      "execution_count": 14,
      "metadata": {
        "id": "Blw6_2jmaY5c"
      },
      "outputs": [],
      "source": [
        "edges = set()\n",
        "with open('web-NotreDame.txt') as f:\n",
        "    for index, line in enumerate(f):\n",
        "      if index < 5:\n",
        "        continue\n",
        "      edge = tuple(sorted(map(int, line.strip().split())))\n",
        "      if edge[0] == edge[1]:\n",
        "        continue\n",
        "      edges.add(edge)\n",
        "f.close()"
      ]
    },
    {
      "cell_type": "code",
      "execution_count": 22,
      "metadata": {},
      "outputs": [
        {
          "name": "stdout",
          "output_type": "stream",
          "text": [
            "Number of Triangels: 8910005\n",
            "edge set size 10000\n",
            " Time: 1.1699986457824707 s\n",
            " Triangles: 10366392\n",
            "edge set size 20000\n",
            " Time: 1.459001064300537 s\n",
            " Triangles: 7125800\n",
            "edge set size 40000\n",
            " Time: 2.0369999408721924 s\n",
            " Triangles: 8805270\n",
            "edge set size 50000\n",
            " Time: 2.660999298095703 s\n",
            " Triangles: 9150529\n",
            "edge set size 70000\n",
            " Time: 3.3549985885620117 s\n",
            " Triangles: 8318528\n",
            "edge set size 80000\n",
            " Time: 3.369999647140503 s\n",
            " Triangles: 9171250\n",
            "edge set size 100000\n",
            " Time: 4.167998790740967 s\n",
            " Triangles: 8708875\n"
          ]
        }
      ],
      "source": [
        "#print(\"Number of edges:\", index)\n",
        "print(\"Number of Triangels:\", 8910005)\n",
        "for M in [10000, 20000, 40000, 50000, 70000, 80000, 100000]:\n",
        "    print(\"edge set size\", M)\n",
        "    triestBase = TriestBase(M)\n",
        "    start_time = time.time()\n",
        "    for index, edge in enumerate(edges):\n",
        "        triestBase.addSample(edge)\n",
        "    print(\" Time:\", time.time()-start_time, \"s\")\n",
        "    print(\" Triangles:\", triestBase.estimateTriangles())"
      ]
    },
    {
      "cell_type": "markdown",
      "metadata": {},
      "source": [
        "### Questions\n",
        "\n",
        "1. What were the challenges you have faced when implementing the algorithm?\n",
        "\n",
        "Because I really don't know the paper's background, it is difficult for me to understand the paper at first. \n",
        "\n",
        "2. Can the algorithm be easily parallelized? If yes, how? If not, why? Explain.\n",
        "\n",
        "No. The algorithm use the variable and sets from last step. Therefore, we can't parallelized this kind of linear funciton.\n",
        "\n",
        "3. Does the algorithm work for unbounded graph streams? Explain.\n",
        "\n",
        "Yes, it does. The algorithm is not bound to the number of elements in the stream, cause the algorithm only maintains a set of elements.  \n",
        "\n",
        "4. Does the algorithm support edge deletions? If not, what modification would it need? Explain.\n",
        "\n",
        "No, it does not. But I find that the last algorithm in the paper, Trièst-FD will uses the refined version of Reservoir Sampling called Random Pairing to accomplish this. "
      ]
    }
  ],
  "metadata": {
    "colab": {
      "collapsed_sections": [],
      "name": "Homework 3: Mining Data Streams.ipynb",
      "provenance": []
    },
    "kernelspec": {
      "display_name": "Python 3.10.4 64-bit",
      "language": "python",
      "name": "python3"
    },
    "language_info": {
      "codemirror_mode": {
        "name": "ipython",
        "version": 3
      },
      "file_extension": ".py",
      "mimetype": "text/x-python",
      "name": "python",
      "nbconvert_exporter": "python",
      "pygments_lexer": "ipython3",
      "version": "3.10.4"
    },
    "vscode": {
      "interpreter": {
        "hash": "369f2c481f4da34e4445cda3fffd2e751bd1c4d706f27375911949ba6bb62e1c"
      }
    }
  },
  "nbformat": 4,
  "nbformat_minor": 0
}
